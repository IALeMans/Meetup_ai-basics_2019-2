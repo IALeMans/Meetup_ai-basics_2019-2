{
 "cells": [
  {
   "cell_type": "markdown",
   "metadata": {},
   "source": [
    "# ARTIFICIAL NEURAL NETWORK\n",
    "\n",
    "### Type of Machine Learning\n",
    "![towardsdatascience.com](https://miro.medium.com/max/602/0*-068ud_-o3ajwq_z.jpg)\n",
    "https://towardsdatascience.com/what-are-the-types-of-machine-learning-e2b9e5d1756f"
   ]
  },
  {
   "cell_type": "markdown",
   "metadata": {},
   "source": [
    "### Type of Supervised Machine Learning\n",
    "![towardsdatascience.com](https://github.com/IALeMans/Meetup_ai-basics_2019-2/raw/master/classification_regression.png)\n",
    "https://leonardoaraujosantos.gitbooks.io/artificial-inteligence/content/machine_learning.html"
   ]
  },
  {
   "cell_type": "markdown",
   "metadata": {},
   "source": [
    "## Problem Definition\n",
    "Our objective is to build prediction model that predicts housing prices from a set of house features. We will use the Boston Housing dataset, which is collected by the U.S Census Service concerning housing in the area of Boston Mass. It was obtained from the StatLib archive, and has been used extensively throughout the literature to benchmark algorithms"
   ]
  },
  {
   "cell_type": "markdown",
   "metadata": {},
   "source": [
    "The dataset is small in size with only 506 cases. It contains 14 features described as follows:\n",
    "* CRIM: per capita crime rate by town\n",
    "* ZN: proportion of residential land zoned for lots over 25,000 sq.ft.\n",
    "* INDUS: proportion of non-retail business acres per town.\n",
    "* CHAS: Charles River dummy variable (1 if tract bounds river; 0 otherwise)\n",
    "* NOX: nitric oxides concentration (parts per 10 million)\n",
    "* RM: average number of rooms per dwelling\n",
    "* AGE: proportion of owner-occupied units built prior to 1940\n",
    "* DIS: weighted distances to five Boston employment centres\n",
    "* RAD: index of accessibility to radial highways\n",
    "* TAX: full-value property-tax rate per \\$10,000\n",
    "* PTRATIO: pupil-teacher ratio by town\n",
    "* B: 1000(Bk — 0.63)² where Bk is the proportion of blacks by town\n",
    "* LSTAT: % lower status of the population\n",
    "* MEDV: Median value of owner-occupied homes in $1000’s\n",
    "\n",
    "The goal behind our regression problem is to use the 13 features to predict the value of MEDV (which represents the housing price).\n",
    "\n",
    "https://www.marktechpost.com/2019/06/17/regression-with-keras-deep-learning-with-keras-part-3/"
   ]
  },
  {
   "cell_type": "markdown",
   "metadata": {},
   "source": [
    "# Loading dataset"
   ]
  },
  {
   "cell_type": "code",
   "execution_count": 2,
   "metadata": {},
   "outputs": [],
   "source": [
    "from keras.datasets import boston_housing\n",
    "(X_train, y_train), (X_test, y_test) = boston_housing.load_data()"
   ]
  },
  {
   "cell_type": "code",
   "execution_count": 4,
   "metadata": {},
   "outputs": [
    {
     "name": "stdout",
     "output_type": "stream",
     "text": [
      "[  1.23247   0.        8.14      0.        0.538     6.142    91.7\n",
      "   3.9769    4.      307.       21.      396.9      18.72   ]\n",
      "15.2\n"
     ]
    }
   ],
   "source": [
    "# let us view on sample from the features\n",
    "print(X_train[0])\n",
    "print(y_train[0])"
   ]
  },
  {
   "cell_type": "markdown",
   "metadata": {},
   "source": [
    "# Preprocessing"
   ]
  },
  {
   "cell_type": "code",
   "execution_count": 9,
   "metadata": {},
   "outputs": [],
   "source": [
    "from sklearn.preprocessing import StandardScaler\n",
    "scaler = StandardScaler()\n",
    "\n",
    "# first we fit the scaler on the training dataset\n",
    "scaler.fit(X_train)\n",
    "\n",
    "# then we call the transform method to scale both the training and testing data\n",
    "X_train_scaled = scaler.transform(X_train)\n",
    "X_test_scaled = scaler.transform(X_test)"
   ]
  },
  {
   "cell_type": "code",
   "execution_count": 10,
   "metadata": {},
   "outputs": [
    {
     "name": "stdout",
     "output_type": "stream",
     "text": [
      "[  1.23247   0.        8.14      0.        0.538     6.142    91.7\n",
      "   3.9769    4.      307.       21.      396.9      18.72   ]\n",
      "[-0.27224633 -0.48361547 -0.43576161 -0.25683275 -0.1652266  -0.1764426\n",
      "  0.81306188  0.1166983  -0.62624905 -0.59517003  1.14850044  0.44807713\n",
      "  0.8252202 ]\n"
     ]
    }
   ],
   "source": [
    "# a sample output\n",
    "print(X_train[0])\n",
    "print(X_train_scaled[0])"
   ]
  },
  {
   "cell_type": "markdown",
   "metadata": {},
   "source": [
    "### splitting is defined in training "
   ]
  },
  {
   "cell_type": "markdown",
   "metadata": {},
   "source": [
    "# Building the model"
   ]
  },
  {
   "cell_type": "code",
   "execution_count": 11,
   "metadata": {},
   "outputs": [],
   "source": [
    "from keras import models, layers\n",
    "model = models.Sequential()\n",
    "model.add(layers.Dense(8, activation='relu', input_shape=[X_train.shape[1]]))\n",
    "model.add(layers.Dense(16, activation='relu'))\n",
    "model.add(layers.Dense(1))\n",
    "model.compile(optimizer='rmsprop', loss='mse', metrics=['mae'])"
   ]
  },
  {
   "cell_type": "markdown",
   "metadata": {},
   "source": [
    "Keras supports other optimizers than RMSprop, and you are supposed to do a trial and error process to choose the best one for your problem. But normally RMSprop works fine with its default parameters.\n",
    "\n",
    "The loss function used is the Mean Squared Error which is the average squared error a point is from the mean value. Keras supports other loss functions as well that are chosen based on the problem type.\n",
    "\n",
    "The metrics shown here has nothing to do with the model training. It is just a user friendly value that is easier to evaluate than the main loss value. Example: an absolute value loss is easier for us to evaluate and make sense of than the squared error."
   ]
  },
  {
   "cell_type": "code",
   "execution_count": 12,
   "metadata": {},
   "outputs": [
    {
     "name": "stdout",
     "output_type": "stream",
     "text": [
      "WARNING:tensorflow:From /opt/conda/lib/python3.7/site-packages/keras/backend/tensorflow_backend.py:422: The name tf.global_variables is deprecated. Please use tf.compat.v1.global_variables instead.\n",
      "\n",
      "Train on 323 samples, validate on 81 samples\n",
      "Epoch 1/100\n",
      "323/323 [==============================] - 0s 836us/step - loss: 574.2183 - mae: 22.1108 - val_loss: 631.4651 - val_mae: 23.4120\n",
      "Epoch 2/100\n",
      "323/323 [==============================] - 0s 152us/step - loss: 561.1087 - mae: 21.7988 - val_loss: 616.9022 - val_mae: 23.1166\n",
      "Epoch 3/100\n",
      "323/323 [==============================] - 0s 111us/step - loss: 549.8235 - mae: 21.5263 - val_loss: 603.9234 - val_mae: 22.8454\n",
      "Epoch 4/100\n",
      "323/323 [==============================] - 0s 99us/step - loss: 539.2035 - mae: 21.2636 - val_loss: 590.2154 - val_mae: 22.5553\n",
      "Epoch 5/100\n",
      "323/323 [==============================] - 0s 112us/step - loss: 528.0121 - mae: 20.9886 - val_loss: 576.9058 - val_mae: 22.2707\n",
      "Epoch 6/100\n",
      "323/323 [==============================] - 0s 65us/step - loss: 516.6683 - mae: 20.7027 - val_loss: 562.9672 - val_mae: 21.9541\n",
      "Epoch 7/100\n",
      "323/323 [==============================] - 0s 178us/step - loss: 504.8863 - mae: 20.3907 - val_loss: 548.8240 - val_mae: 21.6358\n",
      "Epoch 8/100\n",
      "323/323 [==============================] - 0s 177us/step - loss: 492.4830 - mae: 20.0698 - val_loss: 532.9941 - val_mae: 21.2745\n",
      "Epoch 9/100\n",
      "323/323 [==============================] - 0s 116us/step - loss: 479.1323 - mae: 19.7170 - val_loss: 516.2335 - val_mae: 20.8824\n",
      "Epoch 10/100\n",
      "323/323 [==============================] - 0s 146us/step - loss: 464.9323 - mae: 19.3380 - val_loss: 499.8449 - val_mae: 20.4746\n",
      "Epoch 11/100\n",
      "323/323 [==============================] - 0s 138us/step - loss: 450.2844 - mae: 18.9202 - val_loss: 481.0862 - val_mae: 20.0165\n",
      "Epoch 12/100\n",
      "323/323 [==============================] - 0s 158us/step - loss: 434.5653 - mae: 18.4874 - val_loss: 463.5911 - val_mae: 19.5646\n",
      "Epoch 13/100\n",
      "323/323 [==============================] - 0s 177us/step - loss: 418.7362 - mae: 18.0325 - val_loss: 444.0376 - val_mae: 19.0516\n",
      "Epoch 14/100\n",
      "323/323 [==============================] - 0s 140us/step - loss: 401.5951 - mae: 17.5331 - val_loss: 424.4584 - val_mae: 18.5165\n",
      "Epoch 15/100\n",
      "323/323 [==============================] - 0s 197us/step - loss: 383.8882 - mae: 17.0095 - val_loss: 404.0864 - val_mae: 17.9434\n",
      "Epoch 16/100\n",
      "323/323 [==============================] - 0s 172us/step - loss: 366.1928 - mae: 16.4685 - val_loss: 382.6165 - val_mae: 17.3567\n",
      "Epoch 17/100\n",
      "323/323 [==============================] - 0s 132us/step - loss: 347.3896 - mae: 15.9408 - val_loss: 360.1528 - val_mae: 16.7199\n",
      "Epoch 18/100\n",
      "323/323 [==============================] - 0s 143us/step - loss: 327.7911 - mae: 15.3663 - val_loss: 338.2712 - val_mae: 16.1187\n",
      "Epoch 19/100\n",
      "323/323 [==============================] - 0s 126us/step - loss: 308.2191 - mae: 14.7904 - val_loss: 316.8061 - val_mae: 15.5038\n",
      "Epoch 20/100\n",
      "323/323 [==============================] - 0s 142us/step - loss: 288.7734 - mae: 14.2039 - val_loss: 294.1218 - val_mae: 14.8419\n",
      "Epoch 21/100\n",
      "323/323 [==============================] - 0s 126us/step - loss: 268.5717 - mae: 13.6075 - val_loss: 269.9561 - val_mae: 14.1044\n",
      "Epoch 22/100\n",
      "323/323 [==============================] - 0s 142us/step - loss: 247.7593 - mae: 12.9781 - val_loss: 248.6870 - val_mae: 13.4332\n",
      "Epoch 23/100\n",
      "323/323 [==============================] - 0s 145us/step - loss: 228.3971 - mae: 12.4105 - val_loss: 226.1239 - val_mae: 12.7430\n",
      "Epoch 24/100\n",
      "323/323 [==============================] - 0s 91us/step - loss: 208.6889 - mae: 11.8157 - val_loss: 205.9673 - val_mae: 12.1213\n",
      "Epoch 25/100\n",
      "323/323 [==============================] - 0s 112us/step - loss: 189.9283 - mae: 11.2385 - val_loss: 183.4649 - val_mae: 11.4205\n",
      "Epoch 26/100\n",
      "323/323 [==============================] - 0s 117us/step - loss: 171.2402 - mae: 10.6577 - val_loss: 163.5475 - val_mae: 10.7887\n",
      "Epoch 27/100\n",
      "323/323 [==============================] - 0s 109us/step - loss: 153.5823 - mae: 10.0735 - val_loss: 144.9804 - val_mae: 10.1980\n",
      "Epoch 28/100\n",
      "323/323 [==============================] - 0s 133us/step - loss: 137.7298 - mae: 9.5130 - val_loss: 130.1077 - val_mae: 9.6928\n",
      "Epoch 29/100\n",
      "323/323 [==============================] - 0s 147us/step - loss: 123.5929 - mae: 8.9812 - val_loss: 114.1284 - val_mae: 9.1037\n",
      "Epoch 30/100\n",
      "323/323 [==============================] - 0s 200us/step - loss: 108.9705 - mae: 8.3876 - val_loss: 98.8972 - val_mae: 8.4695\n",
      "Epoch 31/100\n",
      "323/323 [==============================] - 0s 173us/step - loss: 95.1052 - mae: 7.7831 - val_loss: 85.9308 - val_mae: 7.8675\n",
      "Epoch 32/100\n",
      "323/323 [==============================] - 0s 141us/step - loss: 83.1104 - mae: 7.2032 - val_loss: 74.1805 - val_mae: 7.2251\n",
      "Epoch 33/100\n",
      "323/323 [==============================] - 0s 193us/step - loss: 72.6800 - mae: 6.6436 - val_loss: 64.4132 - val_mae: 6.6465\n",
      "Epoch 34/100\n",
      "323/323 [==============================] - 0s 250us/step - loss: 63.7492 - mae: 6.0974 - val_loss: 58.2332 - val_mae: 6.2500\n",
      "Epoch 35/100\n",
      "323/323 [==============================] - 0s 156us/step - loss: 57.0880 - mae: 5.6887 - val_loss: 52.3163 - val_mae: 5.8088\n",
      "Epoch 36/100\n",
      "323/323 [==============================] - 0s 177us/step - loss: 51.6119 - mae: 5.3409 - val_loss: 49.1979 - val_mae: 5.4800\n",
      "Epoch 37/100\n",
      "323/323 [==============================] - 0s 139us/step - loss: 48.1740 - mae: 5.0831 - val_loss: 47.3076 - val_mae: 5.2620\n",
      "Epoch 38/100\n",
      "323/323 [==============================] - 0s 123us/step - loss: 45.9102 - mae: 4.9124 - val_loss: 45.9994 - val_mae: 5.1474\n",
      "Epoch 39/100\n",
      "323/323 [==============================] - 0s 127us/step - loss: 44.4486 - mae: 4.8208 - val_loss: 45.0010 - val_mae: 5.0672\n",
      "Epoch 40/100\n",
      "323/323 [==============================] - 0s 134us/step - loss: 42.9442 - mae: 4.7294 - val_loss: 44.2229 - val_mae: 5.0058\n",
      "Epoch 41/100\n",
      "323/323 [==============================] - 0s 112us/step - loss: 41.9032 - mae: 4.6608 - val_loss: 43.4400 - val_mae: 4.9331\n",
      "Epoch 42/100\n",
      "323/323 [==============================] - ETA: 0s - loss: 29.7854 - mae: 4.20 - 0s 90us/step - loss: 40.6824 - mae: 4.5987 - val_loss: 42.5454 - val_mae: 4.8618\n",
      "Epoch 43/100\n",
      "323/323 [==============================] - 0s 102us/step - loss: 39.6035 - mae: 4.5420 - val_loss: 41.5711 - val_mae: 4.7757\n",
      "Epoch 44/100\n",
      "323/323 [==============================] - 0s 89us/step - loss: 38.5869 - mae: 4.4745 - val_loss: 40.7384 - val_mae: 4.7343\n",
      "Epoch 45/100\n",
      "323/323 [==============================] - 0s 89us/step - loss: 37.6349 - mae: 4.4414 - val_loss: 39.9317 - val_mae: 4.6819\n",
      "Epoch 46/100\n",
      "323/323 [==============================] - 0s 102us/step - loss: 36.8449 - mae: 4.3773 - val_loss: 39.3955 - val_mae: 4.6552\n",
      "Epoch 47/100\n",
      "323/323 [==============================] - 0s 105us/step - loss: 35.9941 - mae: 4.3369 - val_loss: 38.6328 - val_mae: 4.6040\n",
      "Epoch 48/100\n",
      "323/323 [==============================] - 0s 93us/step - loss: 35.1733 - mae: 4.2826 - val_loss: 37.8611 - val_mae: 4.5522\n",
      "Epoch 49/100\n",
      "323/323 [==============================] - 0s 98us/step - loss: 34.5059 - mae: 4.2461 - val_loss: 37.4071 - val_mae: 4.5114\n",
      "Epoch 50/100\n",
      "323/323 [==============================] - 0s 119us/step - loss: 33.7401 - mae: 4.1788 - val_loss: 36.8805 - val_mae: 4.4675\n",
      "Epoch 51/100\n",
      "323/323 [==============================] - 0s 92us/step - loss: 33.1628 - mae: 4.1269 - val_loss: 36.2969 - val_mae: 4.4214\n",
      "Epoch 52/100\n",
      "323/323 [==============================] - 0s 111us/step - loss: 32.5291 - mae: 4.0670 - val_loss: 35.7187 - val_mae: 4.3730\n",
      "Epoch 53/100\n",
      "323/323 [==============================] - 0s 133us/step - loss: 31.9934 - mae: 4.0252 - val_loss: 35.3030 - val_mae: 4.3554\n",
      "Epoch 54/100\n",
      "323/323 [==============================] - 0s 176us/step - loss: 31.4527 - mae: 4.0029 - val_loss: 34.3852 - val_mae: 4.3152\n",
      "Epoch 55/100\n",
      "323/323 [==============================] - 0s 258us/step - loss: 30.8295 - mae: 3.9739 - val_loss: 33.6121 - val_mae: 4.2644\n",
      "Epoch 56/100\n",
      "323/323 [==============================] - 0s 177us/step - loss: 30.2800 - mae: 3.9474 - val_loss: 33.2176 - val_mae: 4.2666\n",
      "Epoch 57/100\n",
      "323/323 [==============================] - 0s 119us/step - loss: 29.7870 - mae: 3.9074 - val_loss: 32.5891 - val_mae: 4.2421\n",
      "Epoch 58/100\n",
      "323/323 [==============================] - 0s 113us/step - loss: 29.2521 - mae: 3.8901 - val_loss: 31.9848 - val_mae: 4.2201\n",
      "Epoch 59/100\n",
      "323/323 [==============================] - 0s 115us/step - loss: 28.6903 - mae: 3.8544 - val_loss: 31.5191 - val_mae: 4.1486\n",
      "Epoch 60/100\n",
      "323/323 [==============================] - 0s 109us/step - loss: 28.3451 - mae: 3.8101 - val_loss: 31.2751 - val_mae: 4.1147\n",
      "Epoch 61/100\n",
      "323/323 [==============================] - 0s 111us/step - loss: 28.0132 - mae: 3.7780 - val_loss: 31.0326 - val_mae: 4.1022\n",
      "Epoch 62/100\n",
      "323/323 [==============================] - 0s 124us/step - loss: 27.6290 - mae: 3.7380 - val_loss: 30.6432 - val_mae: 4.1071\n",
      "Epoch 63/100\n",
      "323/323 [==============================] - 0s 133us/step - loss: 27.2240 - mae: 3.7091 - val_loss: 30.1699 - val_mae: 4.0831\n",
      "Epoch 64/100\n",
      "323/323 [==============================] - 0s 159us/step - loss: 26.7547 - mae: 3.6975 - val_loss: 30.0093 - val_mae: 4.0371\n",
      "Epoch 65/100\n",
      "323/323 [==============================] - 0s 135us/step - loss: 26.3481 - mae: 3.6383 - val_loss: 29.6412 - val_mae: 4.0493\n",
      "Epoch 66/100\n",
      "323/323 [==============================] - 0s 160us/step - loss: 25.9651 - mae: 3.6185 - val_loss: 29.2939 - val_mae: 4.0083\n",
      "Epoch 67/100\n",
      "323/323 [==============================] - 0s 113us/step - loss: 25.6946 - mae: 3.5763 - val_loss: 29.1295 - val_mae: 4.0412\n",
      "Epoch 68/100\n",
      "323/323 [==============================] - 0s 129us/step - loss: 25.2867 - mae: 3.5688 - val_loss: 28.5120 - val_mae: 4.0100\n",
      "Epoch 69/100\n",
      "323/323 [==============================] - 0s 113us/step - loss: 24.8916 - mae: 3.5561 - val_loss: 28.0744 - val_mae: 3.9576\n",
      "Epoch 70/100\n",
      "323/323 [==============================] - 0s 100us/step - loss: 24.4855 - mae: 3.5204 - val_loss: 27.5486 - val_mae: 3.8643\n",
      "Epoch 71/100\n",
      "323/323 [==============================] - 0s 173us/step - loss: 24.1947 - mae: 3.4678 - val_loss: 27.1079 - val_mae: 3.9294\n",
      "Epoch 72/100\n",
      "323/323 [==============================] - 0s 136us/step - loss: 23.8000 - mae: 3.4723 - val_loss: 26.8153 - val_mae: 3.8603\n",
      "Epoch 73/100\n",
      "323/323 [==============================] - 0s 159us/step - loss: 23.6088 - mae: 3.4377 - val_loss: 26.3490 - val_mae: 3.8278\n",
      "Epoch 74/100\n",
      "323/323 [==============================] - 0s 107us/step - loss: 23.2272 - mae: 3.3934 - val_loss: 26.2525 - val_mae: 3.7935\n",
      "Epoch 75/100\n",
      "323/323 [==============================] - 0s 135us/step - loss: 22.9859 - mae: 3.3563 - val_loss: 25.9756 - val_mae: 3.8100\n",
      "Epoch 76/100\n",
      "323/323 [==============================] - 0s 158us/step - loss: 22.6458 - mae: 3.3480 - val_loss: 25.7338 - val_mae: 3.7784\n",
      "Epoch 77/100\n",
      "323/323 [==============================] - 0s 186us/step - loss: 22.5034 - mae: 3.3362 - val_loss: 25.3735 - val_mae: 3.7625\n",
      "Epoch 78/100\n",
      "323/323 [==============================] - 0s 165us/step - loss: 22.2418 - mae: 3.3123 - val_loss: 25.5445 - val_mae: 3.8139\n",
      "Epoch 79/100\n",
      "323/323 [==============================] - 0s 163us/step - loss: 22.0350 - mae: 3.3046 - val_loss: 25.1799 - val_mae: 3.7352\n",
      "Epoch 80/100\n",
      "323/323 [==============================] - 0s 176us/step - loss: 21.7285 - mae: 3.2596 - val_loss: 24.7271 - val_mae: 3.7259\n",
      "Epoch 81/100\n",
      "323/323 [==============================] - 0s 112us/step - loss: 21.4498 - mae: 3.2383 - val_loss: 24.6403 - val_mae: 3.7324\n",
      "Epoch 82/100\n",
      "323/323 [==============================] - 0s 118us/step - loss: 21.2428 - mae: 3.2291 - val_loss: 24.2343 - val_mae: 3.7109\n",
      "Epoch 83/100\n",
      "323/323 [==============================] - 0s 106us/step - loss: 20.9413 - mae: 3.1977 - val_loss: 23.8918 - val_mae: 3.6809\n",
      "Epoch 84/100\n",
      "323/323 [==============================] - 0s 101us/step - loss: 20.7791 - mae: 3.1852 - val_loss: 23.5388 - val_mae: 3.6875\n",
      "Epoch 85/100\n",
      "323/323 [==============================] - 0s 103us/step - loss: 20.4690 - mae: 3.1708 - val_loss: 23.1610 - val_mae: 3.6595\n",
      "Epoch 86/100\n",
      "323/323 [==============================] - 0s 90us/step - loss: 20.3141 - mae: 3.1408 - val_loss: 23.0828 - val_mae: 3.6581\n",
      "Epoch 87/100\n",
      "323/323 [==============================] - 0s 103us/step - loss: 20.1500 - mae: 3.1404 - val_loss: 22.8271 - val_mae: 3.6202\n",
      "Epoch 88/100\n",
      "323/323 [==============================] - 0s 94us/step - loss: 19.9800 - mae: 3.1051 - val_loss: 22.7247 - val_mae: 3.6226\n",
      "Epoch 89/100\n",
      "323/323 [==============================] - 0s 121us/step - loss: 19.8818 - mae: 3.0909 - val_loss: 22.7199 - val_mae: 3.6377\n",
      "Epoch 90/100\n",
      "323/323 [==============================] - 0s 179us/step - loss: 19.6276 - mae: 3.0765 - val_loss: 22.1161 - val_mae: 3.6147\n",
      "Epoch 91/100\n",
      "323/323 [==============================] - 0s 304us/step - loss: 19.4087 - mae: 3.0765 - val_loss: 21.9207 - val_mae: 3.5914\n",
      "Epoch 92/100\n",
      "323/323 [==============================] - 0s 240us/step - loss: 19.2390 - mae: 3.0539 - val_loss: 21.7544 - val_mae: 3.5615\n",
      "Epoch 93/100\n",
      "323/323 [==============================] - 0s 227us/step - loss: 19.1718 - mae: 3.0485 - val_loss: 21.4331 - val_mae: 3.5128\n",
      "Epoch 94/100\n",
      "323/323 [==============================] - 0s 174us/step - loss: 19.0878 - mae: 3.0328 - val_loss: 21.3706 - val_mae: 3.5176\n",
      "Epoch 95/100\n",
      "323/323 [==============================] - 0s 185us/step - loss: 18.8388 - mae: 3.0059 - val_loss: 21.1658 - val_mae: 3.5180\n",
      "Epoch 96/100\n",
      "323/323 [==============================] - 0s 124us/step - loss: 18.6923 - mae: 3.0047 - val_loss: 21.2174 - val_mae: 3.5381\n",
      "Epoch 97/100\n",
      "323/323 [==============================] - 0s 123us/step - loss: 18.4658 - mae: 2.9876 - val_loss: 20.8032 - val_mae: 3.4966\n",
      "Epoch 98/100\n",
      "323/323 [==============================] - 0s 125us/step - loss: 18.4270 - mae: 2.9858 - val_loss: 20.6602 - val_mae: 3.4778\n",
      "Epoch 99/100\n",
      "323/323 [==============================] - 0s 130us/step - loss: 18.2374 - mae: 2.9552 - val_loss: 20.4212 - val_mae: 3.4551\n",
      "Epoch 100/100\n",
      "323/323 [==============================] - 0s 124us/step - loss: 18.0571 - mae: 2.9469 - val_loss: 20.4431 - val_mae: 3.4326\n"
     ]
    }
   ],
   "source": [
    "history = model.fit(X_train_scaled, y_train, validation_split=0.2, epochs=100)"
   ]
  },
  {
   "cell_type": "code",
   "execution_count": 18,
   "metadata": {},
   "outputs": [
    {
     "data": {
      "image/png": "[encoded data removed]",
      "text/plain": [
       "<Figure size 432x288 with 1 Axes>"
      ]
     },
     "metadata": {
      "needs_background": "light"
     },
     "output_type": "display_data"
    },
    {
     "data": {
      "image/png": "[encoded data removed]",
      "text/plain": [
       "<Figure size 432x288 with 1 Axes>"
      ]
     },
     "metadata": {
      "needs_background": "light"
     },
     "output_type": "display_data"
    }
   ],
   "source": [
    "import matplotlib.pyplot as plt\n",
    "# Plot training & validation accuracy values\n",
    "plt.plot(history.history['mae'])\n",
    "plt.plot(history.history['val_mae'])\n",
    "plt.title('Model Mean Absolute Error')\n",
    "plt.ylabel('Mean Absolute Error')\n",
    "plt.xlabel('Epoch')\n",
    "plt.legend(['Train', 'Test'], loc='upper left')\n",
    "plt.show()\n",
    "\n",
    "# Plot training & validation loss values\n",
    "plt.plot(history.history['loss'])\n",
    "plt.plot(history.history['val_loss'])\n",
    "plt.title('Model loss')\n",
    "plt.ylabel('Loss')\n",
    "plt.xlabel('Epoch')\n",
    "plt.legend(['Train', 'Test'], loc='upper left')\n",
    "plt.show()"
   ]
  },
  {
   "cell_type": "markdown",
   "metadata": {},
   "source": [
    "# Evaluation on Test Data"
   ]
  },
  {
   "cell_type": "code",
   "execution_count": 17,
   "metadata": {},
   "outputs": [
    {
     "name": "stdout",
     "output_type": "stream",
     "text": [
      "102/102 [==============================] - 0s 110us/step\n"
     ]
    },
    {
     "data": {
      "text/plain": [
       "[21.253947538488053, 3.5775556564331055]"
      ]
     },
     "execution_count": 17,
     "metadata": {},
     "output_type": "execute_result"
    }
   ],
   "source": [
    "model.evaluate(X_test_scaled, y_test)"
   ]
  },
  {
   "cell_type": "markdown",
   "metadata": {},
   "source": [
    "The output values represent the loss (Mean Squarred Error) and the metrics (Mean Absolute Error)."
   ]
  },
  {
   "cell_type": "markdown",
   "metadata": {},
   "source": [
    "# Model Prediction"
   ]
  },
  {
   "cell_type": "code",
   "execution_count": 19,
   "metadata": {},
   "outputs": [],
   "source": [
    "# we get a sample data (the first 2 inputs from the training data)\n",
    "to_predict = X_train_scaled[:2]\n",
    "# we call the predict method\n",
    "predictions = model.predict(to_predict)"
   ]
  },
  {
   "cell_type": "code",
   "execution_count": 21,
   "metadata": {},
   "outputs": [
    {
     "name": "stdout",
     "output_type": "stream",
     "text": [
      "[[14.975598]\n",
      " [39.328167]]\n",
      "[15.2 42.3]\n"
     ]
    }
   ],
   "source": [
    "print(predictions)\n",
    "print(y_train[:2])"
   ]
  },
  {
   "cell_type": "code",
   "execution_count": null,
   "metadata": {},
   "outputs": [],
   "source": []
  }
 ],
 "metadata": {
  "kernelspec": {
   "display_name": "Python 3",
   "language": "python",
   "name": "python3"
  },
  "language_info": {
   "codemirror_mode": {
    "name": "ipython",
    "version": 3
   },
   "file_extension": ".py",
   "mimetype": "text/x-python",
   "name": "python",
   "nbconvert_exporter": "python",
   "pygments_lexer": "ipython3",
   "version": "3.7.3"
  }
 },
 "nbformat": 4,
 "nbformat_minor": 4
}
